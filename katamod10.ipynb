{
 "cells": [
  {
   "cell_type": "code",
   "execution_count": 1,
   "metadata": {},
   "outputs": [
    {
     "ename": "RuntimeError",
     "evalue": "No hay agua suficiente para 5 Astronautas despues de 2 Dias ",
     "output_type": "error",
     "traceback": [
      "\u001b[1;31m---------------------------------------------------------------------------\u001b[0m",
      "\u001b[1;31mRuntimeError\u001b[0m                              Traceback (most recent call last)",
      "\u001b[1;32mUntitled-1.ipynb Cell 1'\u001b[0m in \u001b[0;36m<module>\u001b[1;34m\u001b[0m\n\u001b[0;32m      <a href='vscode-notebook-cell:Untitled-1.ipynb?jupyter-notebook#ch0000001untitled?line=5'>6</a>\u001b[0m         \u001b[39mraise\u001b[39;00m \u001b[39mRuntimeError\u001b[39;00m(\u001b[39mf\u001b[39m\u001b[39m\"\u001b[39m\u001b[39mNo hay agua suficiente para \u001b[39m\u001b[39m{\u001b[39;00mAstronautas\u001b[39m}\u001b[39;00m\u001b[39m Astronautas despues de \u001b[39m\u001b[39m{\u001b[39;00mDiasTranscurridos\u001b[39m}\u001b[39;00m\u001b[39m Dias \u001b[39m\u001b[39m\"\u001b[39m)\n\u001b[0;32m      <a href='vscode-notebook-cell:Untitled-1.ipynb?jupyter-notebook#ch0000001untitled?line=6'>7</a>\u001b[0m     \u001b[39mreturn\u001b[39;00m \u001b[39mf\u001b[39m\u001b[39m\"\u001b[39m\u001b[39mAgua usada total despues de  \u001b[39m\u001b[39m{\u001b[39;00mDiasTranscurridos\u001b[39m}\u001b[39;00m\u001b[39m dias es: \u001b[39m\u001b[39m{\u001b[39;00mAguaUsadaTotal\u001b[39m}\u001b[39;00m\u001b[39m litros\u001b[39m\u001b[39m\"\u001b[39m\n\u001b[1;32m----> <a href='vscode-notebook-cell:Untitled-1.ipynb?jupyter-notebook#ch0000001untitled?line=7'>8</a>\u001b[0m AguaUsada(\u001b[39m5\u001b[39;49m,\u001b[39m100\u001b[39;49m,\u001b[39m2\u001b[39;49m)\n",
      "\u001b[1;32mUntitled-1.ipynb Cell 1'\u001b[0m in \u001b[0;36mAguaUsada\u001b[1;34m(Astronautas, AguaUsada, DiasTranscurridos)\u001b[0m\n\u001b[0;32m      <a href='vscode-notebook-cell:Untitled-1.ipynb?jupyter-notebook#ch0000001untitled?line=3'>4</a>\u001b[0m AguaUsadaTotal\u001b[39m=\u001b[39m AguaUsada \u001b[39m-\u001b[39m UsoTotal\n\u001b[0;32m      <a href='vscode-notebook-cell:Untitled-1.ipynb?jupyter-notebook#ch0000001untitled?line=4'>5</a>\u001b[0m \u001b[39mif\u001b[39;00m AguaUsadaTotal \u001b[39m<\u001b[39m \u001b[39m0\u001b[39m:\n\u001b[1;32m----> <a href='vscode-notebook-cell:Untitled-1.ipynb?jupyter-notebook#ch0000001untitled?line=5'>6</a>\u001b[0m     \u001b[39mraise\u001b[39;00m \u001b[39mRuntimeError\u001b[39;00m(\u001b[39mf\u001b[39m\u001b[39m\"\u001b[39m\u001b[39mNo hay agua suficiente para \u001b[39m\u001b[39m{\u001b[39;00mAstronautas\u001b[39m}\u001b[39;00m\u001b[39m Astronautas despues de \u001b[39m\u001b[39m{\u001b[39;00mDiasTranscurridos\u001b[39m}\u001b[39;00m\u001b[39m Dias \u001b[39m\u001b[39m\"\u001b[39m)\n\u001b[0;32m      <a href='vscode-notebook-cell:Untitled-1.ipynb?jupyter-notebook#ch0000001untitled?line=6'>7</a>\u001b[0m \u001b[39mreturn\u001b[39;00m \u001b[39mf\u001b[39m\u001b[39m\"\u001b[39m\u001b[39mAgua usada total despues de  \u001b[39m\u001b[39m{\u001b[39;00mDiasTranscurridos\u001b[39m}\u001b[39;00m\u001b[39m dias es: \u001b[39m\u001b[39m{\u001b[39;00mAguaUsadaTotal\u001b[39m}\u001b[39;00m\u001b[39m litros\u001b[39m\u001b[39m\"\u001b[39m\n",
      "\u001b[1;31mRuntimeError\u001b[0m: No hay agua suficiente para 5 Astronautas despues de 2 Dias "
     ]
    }
   ],
   "source": [
    "def AguaUsada(Astronautas, AguaUsada, DiasTranscurridos):\n",
    "    UsoDiario = Astronautas * 11\n",
    "    UsoTotal = UsoDiario * DiasTranscurridos\n",
    "    AguaUsadaTotal= AguaUsada - UsoTotal\n",
    "    if AguaUsadaTotal < 0:\n",
    "        raise RuntimeError(f\"No hay agua suficiente para {Astronautas} Astronautas despues de {DiasTranscurridos} Dias \")\n",
    "    return f\"Agua usada total despues de  {DiasTranscurridos} dias es: {AguaUsadaTotal} litros\"\n",
    "AguaUsada(5,100,2)  "
   ]
  },
  {
   "cell_type": "code",
   "execution_count": null,
   "metadata": {},
   "outputs": [],
   "source": [
    "def AguaUsada(Astronautas, AguaUsada, DiasTranscurridos):\n",
    "    UsoDiario = Astronautas * 11\n",
    "    UsoTotal = UsoDiario * DiasTranscurridos\n",
    "    AguaUsadaTotal= AguaUsada - UsoTotal\n",
    "    if AguaUsadaTotal < 0:\n",
    "        raise RuntimeError(f\"No hay agua suficiente para {Astronautas} Astronautas despues de {DiasTranscurridos} Dias \")\n",
    "    return f\"Agua usada total despues de  {DiasTranscurridos} dias es: {AguaUsadaTotal} litros\"\n",
    "AguaUsada(5,100,None)  "
   ]
  },
  {
   "cell_type": "code",
   "execution_count": null,
   "metadata": {},
   "outputs": [],
   "source": [
    "def AguaUsada(Astronautas, AguaUsada, DiasTranscurridos):\n",
    "    UsoDiario = Astronautas * 11\n",
    "    UsoTotal = UsoDiario * DiasTranscurridos\n",
    "    AguaUsadaTotal= AguaUsada - UsoTotal\n",
    "    if AguaUsadaTotal < 0:\n",
    "        raise RuntimeError(f\"No hay agua suficiente para {Astronautas} Astronautas despues de {DiasTranscurridos} Dias \")\n",
    "    return f\"Agua usada total despues de  {DiasTranscurridos} dias es: {AguaUsadaTotal} litros\"\n",
    "try:\n",
    "    AguaUsada(5,100,4)\n",
    "except RuntimeError as error:\n",
    "    SistemaDeAlertaDeNavegacion(error)\n"
   ]
  },
  {
   "cell_type": "code",
   "execution_count": null,
   "metadata": {},
   "outputs": [],
   "source": [
    "def water_left(astronauts, water_left, days_left):\n",
    "    for argument in [astronauts, water_left, days_left]:\n",
    "        try:\n",
    "            # If argument is an int, the following operation will work\n",
    "            argument / 10\n",
    "        except TypeError:\n",
    "            # TypError will be raised only if it isn't the right type \n",
    "            # Raise the same exception but with a better error message\n",
    "            raise TypeError(f\"All arguments must be of type int, but received: '{argument}'\")\n",
    "    daily_usage = astronauts * 11\n",
    "    total_usage = daily_usage * days_left\n",
    "    total_water_left = water_left - total_usage\n",
    "    if total_water_left < 0:\n",
    "        raise RuntimeError(f\"There is not enough water for {astronauts} astronauts after {days_left} days!\")\n",
    "    return f\"Total water left after {days_left} days is: {total_water_left} liters\"\n",
    "water_left(\"9\", \"200\", None)"
   ]
  }
 ],
 "metadata": {
  "interpreter": {
   "hash": "3466a3a0a3ad59dc63ac8fd9026b4e585ea3ff7008c2013cf2d3d223e284a694"
  },
  "kernelspec": {
   "display_name": "Python 3.10.2 64-bit",
   "language": "python",
   "name": "python3"
  },
  "language_info": {
   "codemirror_mode": {
    "name": "ipython",
    "version": 3
   },
   "file_extension": ".py",
   "mimetype": "text/x-python",
   "name": "python",
   "nbconvert_exporter": "python",
   "pygments_lexer": "ipython3",
   "version": "3.10.2"
  },
  "orig_nbformat": 4
 },
 "nbformat": 4,
 "nbformat_minor": 2
}
