{
 "cells": [
  {
   "cell_type": "markdown",
   "metadata": {},
   "source": [
    "# Ejercicio1 - Utilizar operadores aritméticos\n",
    "Comenzaremos usando dos distancias de planetas: Tierra (149.597.870 km) y Júpiter (778.547.200 km)."
   ]
  },
  {
   "cell_type": "code",
   "execution_count": 5,
   "metadata": {},
   "outputs": [
    {
     "name": "stdout",
     "output_type": "stream",
     "text": [
      "Distacia de la tierra 149597870\n",
      "Distacia de la júpiter 778547200\n"
     ]
    }
   ],
   "source": [
    "# Crear variables para almacenar las dos distancias\n",
    "# ¡Asegúrate de quitar las comas!'/\n",
    "distacia_tierra = 149597870\n",
    "distancia_jupiter = 778547200 \n",
    "print(f'Distacia de la tierra {distacia_tierra}')\n",
    "print(f'Distacia de la júpiter {distancia_jupiter}')\n"
   ]
  },
  {
   "cell_type": "code",
   "execution_count": 6,
   "metadata": {},
   "outputs": [
    {
     "name": "stdout",
     "output_type": "stream",
     "text": [
      "628949330\n",
      "390577533.93\n"
     ]
    }
   ],
   "source": [
    "# Calcular la distancia entre planetas\n",
    "distancia = distancia_jupiter - distacia_tierra \n",
    "print(distancia)\n",
    "\n",
    "convert = (distancia * 0.621) \n",
    "print(convert)"
   ]
  },
  {
   "cell_type": "markdown",
   "metadata": {},
   "source": [
    "## Ejercicio 2: convierte cadenas en números y usa valores absolutos"
   ]
  },
  {
   "cell_type": "code",
   "execution_count": 7,
   "metadata": {},
   "outputs": [
    {
     "name": "stdout",
     "output_type": "stream",
     "text": [
      "25\n",
      "45\n"
     ]
    }
   ],
   "source": [
    "# Almacenar las entradas del usuario\n",
    "distancia_1 = input(\"¿Cuál es la distacia del primer planeta ?\")\n",
    "distancia_2 = input(\"¿Cuál es la distancia del segundo planeta?\")\n",
    "print(distancia_1)\n",
    "print(distancia_2)"
   ]
  },
  {
   "cell_type": "code",
   "execution_count": 8,
   "metadata": {},
   "outputs": [],
   "source": [
    "# Convierte las cadenas de ambos planetas a números enteros\n",
    "\n",
    "distacia1 = int(distancia_1)\n",
    "distacia2 = int(distancia_2)"
   ]
  },
  {
   "cell_type": "code",
   "execution_count": 9,
   "metadata": {},
   "outputs": [
    {
     "ename": "NameError",
     "evalue": "name 'convert_distacia2' is not defined",
     "output_type": "error",
     "traceback": [
      "\u001b[1;31m---------------------------------------------------------------------------\u001b[0m",
      "\u001b[1;31mNameError\u001b[0m                                 Traceback (most recent call last)",
      "\u001b[1;32mh:\\launchX\\katamod5.ipynb Cell 7'\u001b[0m in \u001b[0;36m<module>\u001b[1;34m\u001b[0m\n\u001b[0;32m      <a href='vscode-notebook-cell:/h%3A/launchX/katamod5.ipynb#ch0000006?line=0'>1</a>\u001b[0m \u001b[39m# Realizar el cálculo y determinar el valor absoluto\u001b[39;00m\n\u001b[1;32m----> <a href='vscode-notebook-cell:/h%3A/launchX/katamod5.ipynb#ch0000006?line=2'>3</a>\u001b[0m distancia \u001b[39m=\u001b[39m convert_distacia2 \u001b[39m-\u001b[39m convert_distacia1\n\u001b[0;32m      <a href='vscode-notebook-cell:/h%3A/launchX/katamod5.ipynb#ch0000006?line=3'>4</a>\u001b[0m \u001b[39mprint\u001b[39m(\u001b[39mf\u001b[39m\u001b[39m'\u001b[39m\u001b[39mLa distancia entre los dos  planeta en km es la siguiente \u001b[39m\u001b[39m{\u001b[39;00m\u001b[39mabs\u001b[39m( distancia)\u001b[39m}\u001b[39;00m\u001b[39m'\u001b[39m )\n\u001b[0;32m      <a href='vscode-notebook-cell:/h%3A/launchX/katamod5.ipynb#ch0000006?line=4'>5</a>\u001b[0m \u001b[39m# Convertir de KM a Millas\u001b[39;00m\n",
      "\u001b[1;31mNameError\u001b[0m: name 'convert_distacia2' is not defined"
     ]
    }
   ],
   "source": [
    "# Realizar el cálculo y determinar el valor absoluto\n",
    "\n",
    "distancia = convert_distacia2 - convert_distacia1\n",
    "print(f'La distancia entre los dos  planeta en km es la siguiente {abs( distancia)}' )\n",
    "# Convertir de KM a Millas\n",
    "\n",
    "convert = distancia * 0.621\n",
    "print(f'La distancia entre los dos  planeta en millas es la siguiente {abs(convert)}')"
   ]
  }
 ],
 "metadata": {
  "interpreter": {
   "hash": "3466a3a0a3ad59dc63ac8fd9026b4e585ea3ff7008c2013cf2d3d223e284a694"
  },
  "kernelspec": {
   "display_name": "Python 3.10.2 64-bit",
   "language": "python",
   "name": "python3"
  },
  "language_info": {
   "codemirror_mode": {
    "name": "ipython",
    "version": 3
   },
   "file_extension": ".py",
   "mimetype": "text/x-python",
   "name": "python",
   "nbconvert_exporter": "python",
   "pygments_lexer": "ipython3",
   "version": "3.10.2"
  },
  "orig_nbformat": 4
 },
 "nbformat": 4,
 "nbformat_minor": 2
}
