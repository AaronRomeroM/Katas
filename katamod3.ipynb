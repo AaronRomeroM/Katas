{
 "cells": [
  {
   "cell_type": "markdown",
   "metadata": {},
   "source": [
    "# Alerta de asteroide"
   ]
  },
  {
   "cell_type": "code",
   "execution_count": 14,
   "metadata": {},
   "outputs": [
    {
     "name": "stdout",
     "output_type": "stream",
     "text": [
      "¡Se acerca un asteroide!\n"
     ]
    }
   ],
   "source": [
    "vel=49 #gurado valor velocidad\n",
    "\n",
    "if vel>25:\n",
    "    print(\"¡Se acerca un asteroide!\")\n",
    "else:\n",
    "    print(\"No pasa nada, buen dia :)\")"
   ]
  },
  {
   "cell_type": "markdown",
   "metadata": {},
   "source": [
    "# Alerta rayo de luz"
   ]
  },
  {
   "cell_type": "code",
   "execution_count": 15,
   "metadata": {},
   "outputs": [
    {
     "name": "stdout",
     "output_type": "stream",
     "text": [
      "Sera una noche despejada!\n"
     ]
    }
   ],
   "source": [
    "vel=19 #velocidad en km/h\n",
    "\n",
    "if vel>=20:\n",
    "    print(\"!Se acerca un asteroide inofensivo! Pueden buscar un rayo de luz en el cielo\")\n",
    "else:\n",
    "    print(\"Sera una noche despejada!\")"
   ]
  },
  {
   "cell_type": "markdown",
   "metadata": {},
   "source": [
    "# Operador And y Or \n",
    "Alertas multiples"
   ]
  },
  {
   "cell_type": "code",
   "execution_count": 16,
   "metadata": {},
   "outputs": [
    {
     "name": "stdout",
     "output_type": "stream",
     "text": [
      "Todo bien por ahora\n"
     ]
    }
   ],
   "source": [
    "vel=49 #gurado valor velocidad\n",
    "dim=10 #dimensiones en metros\n",
    "\n",
    "if dim<25:\n",
    "    print(\"Todo bien por ahora\")\n",
    "elif dim>25 or vel>25:\n",
    "    print(\"¡Se aproxima un asteroide letal!\")\n",
    "\n",
    "elif vel>=20:\n",
    "        print(\"!Se acerca un asteroide inofensivo! Pueden buscar un rayo de luz en el cielo\")"
   ]
  }
 ],
 "metadata": {
  "interpreter": {
   "hash": "3466a3a0a3ad59dc63ac8fd9026b4e585ea3ff7008c2013cf2d3d223e284a694"
  },
  "kernelspec": {
   "display_name": "Python 3.10.2 64-bit",
   "language": "python",
   "name": "python3"
  },
  "language_info": {
   "codemirror_mode": {
    "name": "ipython",
    "version": 3
   },
   "file_extension": ".py",
   "mimetype": "text/x-python",
   "name": "python",
   "nbconvert_exporter": "python",
   "pygments_lexer": "ipython3",
   "version": "3.10.2"
  },
  "orig_nbformat": 4
 },
 "nbformat": 4,
 "nbformat_minor": 2
}
